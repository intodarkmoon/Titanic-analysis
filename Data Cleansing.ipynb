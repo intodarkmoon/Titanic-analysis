{
  "cells": [
    {
      "cell_type": "markdown",
      "source": [
        "This notebook is created by **Sintaks Group**, with the following members:\n",
        "1. Galang Setia Nugroho\n",
        "2. Hasballah Askar\n",
        "3. Khalishah Fiddina\n",
        "4. Muhammad Ilham Hakiqi\n",
        "5. Tifani Amalina"
      ],
      "metadata": {
        "id": "3Q3eeozlvccZ"
      },
      "id": "3Q3eeozlvccZ"
    },
    {
      "cell_type": "markdown",
      "id": "8c2a7eec",
      "metadata": {
        "id": "8c2a7eec"
      },
      "source": [
        "# Data Cleansing\n",
        "In this notebook, we will show you about Data Cleansing on Titanic dataset in Python."
      ]
    },
    {
      "cell_type": "markdown",
      "source": [
        "First, import the libraries that are needed:\n",
        "- **pandas**, for data manipulation and analysis\n",
        "- **numpy**, used for working with arrays\n",
        "- **matplotlib** and **seaborn** for visualization"
      ],
      "metadata": {
        "id": "LEVEJ9Ag_NnL"
      },
      "id": "LEVEJ9Ag_NnL"
    },
    {
      "cell_type": "code",
      "execution_count": null,
      "id": "316a7a08",
      "metadata": {
        "id": "316a7a08"
      },
      "outputs": [],
      "source": [
        "import pandas as pd\n",
        "import numpy as np\n",
        "import matplotlib.pyplot as plt\n",
        "%matplotlib inline\n",
        "import seaborn as sns"
      ]
    },
    {
      "cell_type": "markdown",
      "source": [
        "If you're using Google Colab, use this code below to upload the data file:"
      ],
      "metadata": {
        "id": "Gfcg8r7cPOwS"
      },
      "id": "Gfcg8r7cPOwS"
    },
    {
      "cell_type": "code",
      "source": [
        "from google.colab import files\n",
        "files.upload()"
      ],
      "metadata": {
        "id": "54J6wQnG_5qc"
      },
      "execution_count": null,
      "outputs": [],
      "id": "54J6wQnG_5qc"
    },
    {
      "cell_type": "markdown",
      "source": [
        "Create a data frame and load the data of Titanic dataset"
      ],
      "metadata": {
        "id": "l-HUGckrOyyr"
      },
      "id": "l-HUGckrOyyr"
    },
    {
      "cell_type": "code",
      "execution_count": null,
      "id": "c84bf336",
      "metadata": {
        "id": "c84bf336",
        "outputId": "c08ecba6-9958-4507-f441-305609bdd2be"
      },
      "outputs": [
        {
          "data": {
            "text/html": [
              "<div>\n",
              "<style scoped>\n",
              "    .dataframe tbody tr th:only-of-type {\n",
              "        vertical-align: middle;\n",
              "    }\n",
              "\n",
              "    .dataframe tbody tr th {\n",
              "        vertical-align: top;\n",
              "    }\n",
              "\n",
              "    .dataframe thead th {\n",
              "        text-align: right;\n",
              "    }\n",
              "</style>\n",
              "<table border=\"1\" class=\"dataframe\">\n",
              "  <thead>\n",
              "    <tr style=\"text-align: right;\">\n",
              "      <th></th>\n",
              "      <th>PassengerId</th>\n",
              "      <th>Survived</th>\n",
              "      <th>Pclass</th>\n",
              "      <th>Name</th>\n",
              "      <th>Sex</th>\n",
              "      <th>Age</th>\n",
              "      <th>SibSp</th>\n",
              "      <th>Parch</th>\n",
              "      <th>Ticket</th>\n",
              "      <th>Fare</th>\n",
              "      <th>Cabin</th>\n",
              "      <th>Embarked</th>\n",
              "    </tr>\n",
              "  </thead>\n",
              "  <tbody>\n",
              "    <tr>\n",
              "      <th>0</th>\n",
              "      <td>1</td>\n",
              "      <td>0</td>\n",
              "      <td>3</td>\n",
              "      <td>Braund, Mr. Owen Harris</td>\n",
              "      <td>male</td>\n",
              "      <td>22.0</td>\n",
              "      <td>1</td>\n",
              "      <td>0</td>\n",
              "      <td>A/5 21171</td>\n",
              "      <td>7.2500</td>\n",
              "      <td>NaN</td>\n",
              "      <td>S</td>\n",
              "    </tr>\n",
              "    <tr>\n",
              "      <th>1</th>\n",
              "      <td>2</td>\n",
              "      <td>1</td>\n",
              "      <td>1</td>\n",
              "      <td>Cumings, Mrs. John Bradley (Florence Briggs Th...</td>\n",
              "      <td>female</td>\n",
              "      <td>38.0</td>\n",
              "      <td>1</td>\n",
              "      <td>0</td>\n",
              "      <td>PC 17599</td>\n",
              "      <td>71.2833</td>\n",
              "      <td>C85</td>\n",
              "      <td>C</td>\n",
              "    </tr>\n",
              "    <tr>\n",
              "      <th>2</th>\n",
              "      <td>3</td>\n",
              "      <td>1</td>\n",
              "      <td>3</td>\n",
              "      <td>Heikkinen, Miss. Laina</td>\n",
              "      <td>female</td>\n",
              "      <td>26.0</td>\n",
              "      <td>0</td>\n",
              "      <td>0</td>\n",
              "      <td>STON/O2. 3101282</td>\n",
              "      <td>7.9250</td>\n",
              "      <td>NaN</td>\n",
              "      <td>S</td>\n",
              "    </tr>\n",
              "    <tr>\n",
              "      <th>3</th>\n",
              "      <td>4</td>\n",
              "      <td>1</td>\n",
              "      <td>1</td>\n",
              "      <td>Futrelle, Mrs. Jacques Heath (Lily May Peel)</td>\n",
              "      <td>female</td>\n",
              "      <td>35.0</td>\n",
              "      <td>1</td>\n",
              "      <td>0</td>\n",
              "      <td>113803</td>\n",
              "      <td>53.1000</td>\n",
              "      <td>C123</td>\n",
              "      <td>S</td>\n",
              "    </tr>\n",
              "    <tr>\n",
              "      <th>4</th>\n",
              "      <td>5</td>\n",
              "      <td>0</td>\n",
              "      <td>3</td>\n",
              "      <td>Allen, Mr. William Henry</td>\n",
              "      <td>male</td>\n",
              "      <td>35.0</td>\n",
              "      <td>0</td>\n",
              "      <td>0</td>\n",
              "      <td>373450</td>\n",
              "      <td>8.0500</td>\n",
              "      <td>NaN</td>\n",
              "      <td>S</td>\n",
              "    </tr>\n",
              "    <tr>\n",
              "      <th>...</th>\n",
              "      <td>...</td>\n",
              "      <td>...</td>\n",
              "      <td>...</td>\n",
              "      <td>...</td>\n",
              "      <td>...</td>\n",
              "      <td>...</td>\n",
              "      <td>...</td>\n",
              "      <td>...</td>\n",
              "      <td>...</td>\n",
              "      <td>...</td>\n",
              "      <td>...</td>\n",
              "      <td>...</td>\n",
              "    </tr>\n",
              "    <tr>\n",
              "      <th>886</th>\n",
              "      <td>887</td>\n",
              "      <td>0</td>\n",
              "      <td>2</td>\n",
              "      <td>Montvila, Rev. Juozas</td>\n",
              "      <td>male</td>\n",
              "      <td>27.0</td>\n",
              "      <td>0</td>\n",
              "      <td>0</td>\n",
              "      <td>211536</td>\n",
              "      <td>13.0000</td>\n",
              "      <td>NaN</td>\n",
              "      <td>S</td>\n",
              "    </tr>\n",
              "    <tr>\n",
              "      <th>887</th>\n",
              "      <td>888</td>\n",
              "      <td>1</td>\n",
              "      <td>1</td>\n",
              "      <td>Graham, Miss. Margaret Edith</td>\n",
              "      <td>female</td>\n",
              "      <td>19.0</td>\n",
              "      <td>0</td>\n",
              "      <td>0</td>\n",
              "      <td>112053</td>\n",
              "      <td>30.0000</td>\n",
              "      <td>B42</td>\n",
              "      <td>S</td>\n",
              "    </tr>\n",
              "    <tr>\n",
              "      <th>888</th>\n",
              "      <td>889</td>\n",
              "      <td>0</td>\n",
              "      <td>3</td>\n",
              "      <td>Johnston, Miss. Catherine Helen \"Carrie\"</td>\n",
              "      <td>female</td>\n",
              "      <td>NaN</td>\n",
              "      <td>1</td>\n",
              "      <td>2</td>\n",
              "      <td>W./C. 6607</td>\n",
              "      <td>23.4500</td>\n",
              "      <td>NaN</td>\n",
              "      <td>S</td>\n",
              "    </tr>\n",
              "    <tr>\n",
              "      <th>889</th>\n",
              "      <td>890</td>\n",
              "      <td>1</td>\n",
              "      <td>1</td>\n",
              "      <td>Behr, Mr. Karl Howell</td>\n",
              "      <td>male</td>\n",
              "      <td>26.0</td>\n",
              "      <td>0</td>\n",
              "      <td>0</td>\n",
              "      <td>111369</td>\n",
              "      <td>30.0000</td>\n",
              "      <td>C148</td>\n",
              "      <td>C</td>\n",
              "    </tr>\n",
              "    <tr>\n",
              "      <th>890</th>\n",
              "      <td>891</td>\n",
              "      <td>0</td>\n",
              "      <td>3</td>\n",
              "      <td>Dooley, Mr. Patrick</td>\n",
              "      <td>male</td>\n",
              "      <td>32.0</td>\n",
              "      <td>0</td>\n",
              "      <td>0</td>\n",
              "      <td>370376</td>\n",
              "      <td>7.7500</td>\n",
              "      <td>NaN</td>\n",
              "      <td>Q</td>\n",
              "    </tr>\n",
              "  </tbody>\n",
              "</table>\n",
              "<p>891 rows × 12 columns</p>\n",
              "</div>"
            ],
            "text/plain": [
              "     PassengerId  Survived  Pclass  \\\n",
              "0              1         0       3   \n",
              "1              2         1       1   \n",
              "2              3         1       3   \n",
              "3              4         1       1   \n",
              "4              5         0       3   \n",
              "..           ...       ...     ...   \n",
              "886          887         0       2   \n",
              "887          888         1       1   \n",
              "888          889         0       3   \n",
              "889          890         1       1   \n",
              "890          891         0       3   \n",
              "\n",
              "                                                  Name     Sex   Age  SibSp  \\\n",
              "0                              Braund, Mr. Owen Harris    male  22.0      1   \n",
              "1    Cumings, Mrs. John Bradley (Florence Briggs Th...  female  38.0      1   \n",
              "2                               Heikkinen, Miss. Laina  female  26.0      0   \n",
              "3         Futrelle, Mrs. Jacques Heath (Lily May Peel)  female  35.0      1   \n",
              "4                             Allen, Mr. William Henry    male  35.0      0   \n",
              "..                                                 ...     ...   ...    ...   \n",
              "886                              Montvila, Rev. Juozas    male  27.0      0   \n",
              "887                       Graham, Miss. Margaret Edith  female  19.0      0   \n",
              "888           Johnston, Miss. Catherine Helen \"Carrie\"  female   NaN      1   \n",
              "889                              Behr, Mr. Karl Howell    male  26.0      0   \n",
              "890                                Dooley, Mr. Patrick    male  32.0      0   \n",
              "\n",
              "     Parch            Ticket     Fare Cabin Embarked  \n",
              "0        0         A/5 21171   7.2500   NaN        S  \n",
              "1        0          PC 17599  71.2833   C85        C  \n",
              "2        0  STON/O2. 3101282   7.9250   NaN        S  \n",
              "3        0            113803  53.1000  C123        S  \n",
              "4        0            373450   8.0500   NaN        S  \n",
              "..     ...               ...      ...   ...      ...  \n",
              "886      0            211536  13.0000   NaN        S  \n",
              "887      0            112053  30.0000   B42        S  \n",
              "888      2        W./C. 6607  23.4500   NaN        S  \n",
              "889      0            111369  30.0000  C148        C  \n",
              "890      0            370376   7.7500   NaN        Q  \n",
              "\n",
              "[891 rows x 12 columns]"
            ]
          },
          "execution_count": 2,
          "metadata": {},
          "output_type": "execute_result"
        }
      ],
      "source": [
        "df = pd.read_csv('train.csv')\n",
        "df"
      ]
    },
    {
      "cell_type": "markdown",
      "source": [
        "Show only the top 10 rows of the loaded dataset"
      ],
      "metadata": {
        "id": "-b1F_X4zPxWS"
      },
      "id": "-b1F_X4zPxWS"
    },
    {
      "cell_type": "code",
      "execution_count": null,
      "id": "bca334df",
      "metadata": {
        "id": "bca334df",
        "outputId": "3bacf42b-b5fe-4485-a9a3-ee059b2aec59"
      },
      "outputs": [
        {
          "data": {
            "text/html": [
              "<div>\n",
              "<style scoped>\n",
              "    .dataframe tbody tr th:only-of-type {\n",
              "        vertical-align: middle;\n",
              "    }\n",
              "\n",
              "    .dataframe tbody tr th {\n",
              "        vertical-align: top;\n",
              "    }\n",
              "\n",
              "    .dataframe thead th {\n",
              "        text-align: right;\n",
              "    }\n",
              "</style>\n",
              "<table border=\"1\" class=\"dataframe\">\n",
              "  <thead>\n",
              "    <tr style=\"text-align: right;\">\n",
              "      <th></th>\n",
              "      <th>PassengerId</th>\n",
              "      <th>Survived</th>\n",
              "      <th>Pclass</th>\n",
              "      <th>Name</th>\n",
              "      <th>Sex</th>\n",
              "      <th>Age</th>\n",
              "      <th>SibSp</th>\n",
              "      <th>Parch</th>\n",
              "      <th>Ticket</th>\n",
              "      <th>Fare</th>\n",
              "      <th>Cabin</th>\n",
              "      <th>Embarked</th>\n",
              "    </tr>\n",
              "  </thead>\n",
              "  <tbody>\n",
              "    <tr>\n",
              "      <th>0</th>\n",
              "      <td>1</td>\n",
              "      <td>0</td>\n",
              "      <td>3</td>\n",
              "      <td>Braund, Mr. Owen Harris</td>\n",
              "      <td>male</td>\n",
              "      <td>22.0</td>\n",
              "      <td>1</td>\n",
              "      <td>0</td>\n",
              "      <td>A/5 21171</td>\n",
              "      <td>7.2500</td>\n",
              "      <td>NaN</td>\n",
              "      <td>S</td>\n",
              "    </tr>\n",
              "    <tr>\n",
              "      <th>1</th>\n",
              "      <td>2</td>\n",
              "      <td>1</td>\n",
              "      <td>1</td>\n",
              "      <td>Cumings, Mrs. John Bradley (Florence Briggs Th...</td>\n",
              "      <td>female</td>\n",
              "      <td>38.0</td>\n",
              "      <td>1</td>\n",
              "      <td>0</td>\n",
              "      <td>PC 17599</td>\n",
              "      <td>71.2833</td>\n",
              "      <td>C85</td>\n",
              "      <td>C</td>\n",
              "    </tr>\n",
              "    <tr>\n",
              "      <th>2</th>\n",
              "      <td>3</td>\n",
              "      <td>1</td>\n",
              "      <td>3</td>\n",
              "      <td>Heikkinen, Miss. Laina</td>\n",
              "      <td>female</td>\n",
              "      <td>26.0</td>\n",
              "      <td>0</td>\n",
              "      <td>0</td>\n",
              "      <td>STON/O2. 3101282</td>\n",
              "      <td>7.9250</td>\n",
              "      <td>NaN</td>\n",
              "      <td>S</td>\n",
              "    </tr>\n",
              "    <tr>\n",
              "      <th>3</th>\n",
              "      <td>4</td>\n",
              "      <td>1</td>\n",
              "      <td>1</td>\n",
              "      <td>Futrelle, Mrs. Jacques Heath (Lily May Peel)</td>\n",
              "      <td>female</td>\n",
              "      <td>35.0</td>\n",
              "      <td>1</td>\n",
              "      <td>0</td>\n",
              "      <td>113803</td>\n",
              "      <td>53.1000</td>\n",
              "      <td>C123</td>\n",
              "      <td>S</td>\n",
              "    </tr>\n",
              "    <tr>\n",
              "      <th>4</th>\n",
              "      <td>5</td>\n",
              "      <td>0</td>\n",
              "      <td>3</td>\n",
              "      <td>Allen, Mr. William Henry</td>\n",
              "      <td>male</td>\n",
              "      <td>35.0</td>\n",
              "      <td>0</td>\n",
              "      <td>0</td>\n",
              "      <td>373450</td>\n",
              "      <td>8.0500</td>\n",
              "      <td>NaN</td>\n",
              "      <td>S</td>\n",
              "    </tr>\n",
              "    <tr>\n",
              "      <th>5</th>\n",
              "      <td>6</td>\n",
              "      <td>0</td>\n",
              "      <td>3</td>\n",
              "      <td>Moran, Mr. James</td>\n",
              "      <td>male</td>\n",
              "      <td>NaN</td>\n",
              "      <td>0</td>\n",
              "      <td>0</td>\n",
              "      <td>330877</td>\n",
              "      <td>8.4583</td>\n",
              "      <td>NaN</td>\n",
              "      <td>Q</td>\n",
              "    </tr>\n",
              "    <tr>\n",
              "      <th>6</th>\n",
              "      <td>7</td>\n",
              "      <td>0</td>\n",
              "      <td>1</td>\n",
              "      <td>McCarthy, Mr. Timothy J</td>\n",
              "      <td>male</td>\n",
              "      <td>54.0</td>\n",
              "      <td>0</td>\n",
              "      <td>0</td>\n",
              "      <td>17463</td>\n",
              "      <td>51.8625</td>\n",
              "      <td>E46</td>\n",
              "      <td>S</td>\n",
              "    </tr>\n",
              "    <tr>\n",
              "      <th>7</th>\n",
              "      <td>8</td>\n",
              "      <td>0</td>\n",
              "      <td>3</td>\n",
              "      <td>Palsson, Master. Gosta Leonard</td>\n",
              "      <td>male</td>\n",
              "      <td>2.0</td>\n",
              "      <td>3</td>\n",
              "      <td>1</td>\n",
              "      <td>349909</td>\n",
              "      <td>21.0750</td>\n",
              "      <td>NaN</td>\n",
              "      <td>S</td>\n",
              "    </tr>\n",
              "    <tr>\n",
              "      <th>8</th>\n",
              "      <td>9</td>\n",
              "      <td>1</td>\n",
              "      <td>3</td>\n",
              "      <td>Johnson, Mrs. Oscar W (Elisabeth Vilhelmina Berg)</td>\n",
              "      <td>female</td>\n",
              "      <td>27.0</td>\n",
              "      <td>0</td>\n",
              "      <td>2</td>\n",
              "      <td>347742</td>\n",
              "      <td>11.1333</td>\n",
              "      <td>NaN</td>\n",
              "      <td>S</td>\n",
              "    </tr>\n",
              "    <tr>\n",
              "      <th>9</th>\n",
              "      <td>10</td>\n",
              "      <td>1</td>\n",
              "      <td>2</td>\n",
              "      <td>Nasser, Mrs. Nicholas (Adele Achem)</td>\n",
              "      <td>female</td>\n",
              "      <td>14.0</td>\n",
              "      <td>1</td>\n",
              "      <td>0</td>\n",
              "      <td>237736</td>\n",
              "      <td>30.0708</td>\n",
              "      <td>NaN</td>\n",
              "      <td>C</td>\n",
              "    </tr>\n",
              "  </tbody>\n",
              "</table>\n",
              "</div>"
            ],
            "text/plain": [
              "   PassengerId  Survived  Pclass  \\\n",
              "0            1         0       3   \n",
              "1            2         1       1   \n",
              "2            3         1       3   \n",
              "3            4         1       1   \n",
              "4            5         0       3   \n",
              "5            6         0       3   \n",
              "6            7         0       1   \n",
              "7            8         0       3   \n",
              "8            9         1       3   \n",
              "9           10         1       2   \n",
              "\n",
              "                                                Name     Sex   Age  SibSp  \\\n",
              "0                            Braund, Mr. Owen Harris    male  22.0      1   \n",
              "1  Cumings, Mrs. John Bradley (Florence Briggs Th...  female  38.0      1   \n",
              "2                             Heikkinen, Miss. Laina  female  26.0      0   \n",
              "3       Futrelle, Mrs. Jacques Heath (Lily May Peel)  female  35.0      1   \n",
              "4                           Allen, Mr. William Henry    male  35.0      0   \n",
              "5                                   Moran, Mr. James    male   NaN      0   \n",
              "6                            McCarthy, Mr. Timothy J    male  54.0      0   \n",
              "7                     Palsson, Master. Gosta Leonard    male   2.0      3   \n",
              "8  Johnson, Mrs. Oscar W (Elisabeth Vilhelmina Berg)  female  27.0      0   \n",
              "9                Nasser, Mrs. Nicholas (Adele Achem)  female  14.0      1   \n",
              "\n",
              "   Parch            Ticket     Fare Cabin Embarked  \n",
              "0      0         A/5 21171   7.2500   NaN        S  \n",
              "1      0          PC 17599  71.2833   C85        C  \n",
              "2      0  STON/O2. 3101282   7.9250   NaN        S  \n",
              "3      0            113803  53.1000  C123        S  \n",
              "4      0            373450   8.0500   NaN        S  \n",
              "5      0            330877   8.4583   NaN        Q  \n",
              "6      0             17463  51.8625   E46        S  \n",
              "7      1            349909  21.0750   NaN        S  \n",
              "8      2            347742  11.1333   NaN        S  \n",
              "9      0            237736  30.0708   NaN        C  "
            ]
          },
          "execution_count": 3,
          "metadata": {},
          "output_type": "execute_result"
        }
      ],
      "source": [
        "df.head(10)"
      ]
    },
    {
      "cell_type": "markdown",
      "source": [
        "Show insight about the data"
      ],
      "metadata": {
        "id": "T5TIX9laP9Tp"
      },
      "id": "T5TIX9laP9Tp"
    },
    {
      "cell_type": "code",
      "execution_count": null,
      "id": "bf691d61",
      "metadata": {
        "id": "bf691d61",
        "outputId": "20be293c-df20-4aaa-b30a-bcfbd39e44b8"
      },
      "outputs": [
        {
          "name": "stdout",
          "output_type": "stream",
          "text": [
            "<class 'pandas.core.frame.DataFrame'>\n",
            "RangeIndex: 891 entries, 0 to 890\n",
            "Data columns (total 12 columns):\n",
            " #   Column       Non-Null Count  Dtype  \n",
            "---  ------       --------------  -----  \n",
            " 0   PassengerId  891 non-null    int64  \n",
            " 1   Survived     891 non-null    int64  \n",
            " 2   Pclass       891 non-null    int64  \n",
            " 3   Name         891 non-null    object \n",
            " 4   Sex          891 non-null    object \n",
            " 5   Age          714 non-null    float64\n",
            " 6   SibSp        891 non-null    int64  \n",
            " 7   Parch        891 non-null    int64  \n",
            " 8   Ticket       891 non-null    object \n",
            " 9   Fare         891 non-null    float64\n",
            " 10  Cabin        204 non-null    object \n",
            " 11  Embarked     889 non-null    object \n",
            "dtypes: float64(2), int64(5), object(5)\n",
            "memory usage: 83.7+ KB\n"
          ]
        }
      ],
      "source": [
        "df.info()"
      ]
    },
    {
      "cell_type": "markdown",
      "id": "8b001ec0",
      "metadata": {
        "id": "8b001ec0"
      },
      "source": [
        "## Column 'Age'"
      ]
    },
    {
      "cell_type": "markdown",
      "source": [
        "The total data entry is 891 rows, meanwhile column 'Age' only has 714 rows.<br>\n",
        "This means column 'Age' has null values, so imputation needs to be done on this column."
      ],
      "metadata": {
        "id": "JM2g8wy2UgT-"
      },
      "id": "JM2g8wy2UgT-"
    },
    {
      "cell_type": "markdown",
      "source": [
        "Show visualization of the data in column 'Age' in histogram"
      ],
      "metadata": {
        "id": "GsZzehe6Qqfc"
      },
      "id": "GsZzehe6Qqfc"
    },
    {
      "cell_type": "code",
      "execution_count": null,
      "id": "f14b045f",
      "metadata": {
        "id": "f14b045f",
        "outputId": "a9f8aaf2-63aa-4216-9151-cb0ae7eef7ed"
      },
      "outputs": [
        {
          "data": {
            "text/plain": [
              "<AxesSubplot:ylabel='Frequency'>"
            ]
          },
          "execution_count": 5,
          "metadata": {},
          "output_type": "execute_result"
        },
        {
          "data": {
            "image/png": "[encoded data removed]",
            "text/plain": [
              "<Figure size 432x288 with 1 Axes>"
            ]
          },
          "metadata": {
            "needs_background": "light"
          },
          "output_type": "display_data"
        }
      ],
      "source": [
        "df.Age.plot(kind = 'hist')"
      ]
    },
    {
      "cell_type": "markdown",
      "source": [
        "Show summary statistics of column 'Age'"
      ],
      "metadata": {
        "id": "XG63_3RtRMhN"
      },
      "id": "XG63_3RtRMhN"
    },
    {
      "cell_type": "code",
      "execution_count": null,
      "id": "4a7f55fa",
      "metadata": {
        "id": "4a7f55fa",
        "outputId": "07169fae-a079-4a5c-ca89-f39cd61b8635"
      },
      "outputs": [
        {
          "data": {
            "text/plain": [
              "count    714.000000\n",
              "mean      29.699118\n",
              "std       14.526497\n",
              "min        0.420000\n",
              "25%       20.125000\n",
              "50%       28.000000\n",
              "75%       38.000000\n",
              "max       80.000000\n",
              "Name: Age, dtype: float64"
            ]
          },
          "execution_count": 6,
          "metadata": {},
          "output_type": "execute_result"
        }
      ],
      "source": [
        "df.Age.describe()"
      ]
    },
    {
      "cell_type": "markdown",
      "source": [
        "Because the data distribution of column 'Age' is skewed, imputation is done using median.<br>\n",
        "The code below is used to fill the null-value with the median."
      ],
      "metadata": {
        "id": "ecfdPppTS9sO"
      },
      "id": "ecfdPppTS9sO"
    },
    {
      "cell_type": "code",
      "execution_count": null,
      "id": "c98a2897",
      "metadata": {
        "id": "c98a2897"
      },
      "outputs": [],
      "source": [
        "val = df.Age.median()\n",
        "df['Age'] = df.Age.fillna(val)"
      ]
    },
    {
      "cell_type": "markdown",
      "source": [
        "Show the dataset information to see whether the imputation on column 'Age' has been done or not."
      ],
      "metadata": {
        "id": "EUdFcIvkTwN3"
      },
      "id": "EUdFcIvkTwN3"
    },
    {
      "cell_type": "code",
      "execution_count": null,
      "id": "e5dcbfb5",
      "metadata": {
        "id": "e5dcbfb5",
        "outputId": "af04f56b-3f66-48a7-9959-2b8754852642"
      },
      "outputs": [
        {
          "name": "stdout",
          "output_type": "stream",
          "text": [
            "<class 'pandas.core.frame.DataFrame'>\n",
            "RangeIndex: 891 entries, 0 to 890\n",
            "Data columns (total 12 columns):\n",
            " #   Column       Non-Null Count  Dtype  \n",
            "---  ------       --------------  -----  \n",
            " 0   PassengerId  891 non-null    int64  \n",
            " 1   Survived     891 non-null    int64  \n",
            " 2   Pclass       891 non-null    int64  \n",
            " 3   Name         891 non-null    object \n",
            " 4   Sex          891 non-null    object \n",
            " 5   Age          891 non-null    float64\n",
            " 6   SibSp        891 non-null    int64  \n",
            " 7   Parch        891 non-null    int64  \n",
            " 8   Ticket       891 non-null    object \n",
            " 9   Fare         891 non-null    float64\n",
            " 10  Cabin        204 non-null    object \n",
            " 11  Embarked     889 non-null    object \n",
            "dtypes: float64(2), int64(5), object(5)\n",
            "memory usage: 83.7+ KB\n"
          ]
        }
      ],
      "source": [
        "df.info()"
      ]
    },
    {
      "cell_type": "markdown",
      "source": [
        "## Column 'Cabin'"
      ],
      "metadata": {
        "id": "8bl8dQ3oVDK4"
      },
      "id": "8bl8dQ3oVDK4"
    },
    {
      "cell_type": "markdown",
      "source": [
        "The total data entry is 891 rows, meanwhile column 'Cabin' only has 204 rows.<br>\n",
        "This means column 'Cabin' has null values."
      ],
      "metadata": {
        "id": "UsdCYFRFVKEB"
      },
      "id": "UsdCYFRFVKEB"
    },
    {
      "cell_type": "markdown",
      "source": [
        "Show the proportions of the data in column 'Cabin'"
      ],
      "metadata": {
        "id": "vdzWCJ5CVSRc"
      },
      "id": "vdzWCJ5CVSRc"
    },
    {
      "cell_type": "code",
      "execution_count": null,
      "id": "5274859b",
      "metadata": {
        "id": "5274859b",
        "outputId": "54219996-c0f9-461f-eed6-b9644ae5c8cf"
      },
      "outputs": [
        {
          "data": {
            "text/plain": [
              "B96 B98        4\n",
              "G6             4\n",
              "C23 C25 C27    4\n",
              "C22 C26        3\n",
              "F33            3\n",
              "              ..\n",
              "E34            1\n",
              "C7             1\n",
              "C54            1\n",
              "E36            1\n",
              "C148           1\n",
              "Name: Cabin, Length: 147, dtype: int64"
            ]
          },
          "execution_count": 9,
          "metadata": {},
          "output_type": "execute_result"
        }
      ],
      "source": [
        "df.Cabin.value_counts()"
      ]
    },
    {
      "cell_type": "markdown",
      "id": "ecbaa7ad",
      "metadata": {
        "id": "ecbaa7ad"
      },
      "source": [
        "As you can see, there are too many unique data in 'Cabin' column. <br>Plus, the information in 'Cabin' column is not very useful in determining the survived data. <br>Therefore, we can delete 'Cabin' column."
      ]
    },
    {
      "cell_type": "markdown",
      "source": [
        "Use the code below to permanently delete the 'Cabin' column"
      ],
      "metadata": {
        "id": "p0jhSOwWWuj1"
      },
      "id": "p0jhSOwWWuj1"
    },
    {
      "cell_type": "code",
      "execution_count": null,
      "id": "14d20494",
      "metadata": {
        "id": "14d20494"
      },
      "outputs": [],
      "source": [
        "df.drop('Cabin', axis=1, inplace=True)"
      ]
    },
    {
      "cell_type": "markdown",
      "source": [
        "Show the dataset information to see whether column 'Cabin' has been deleted or not."
      ],
      "metadata": {
        "id": "8DsLbiDQW229"
      },
      "id": "8DsLbiDQW229"
    },
    {
      "cell_type": "code",
      "execution_count": null,
      "id": "a199a139",
      "metadata": {
        "id": "a199a139",
        "outputId": "338d8131-e152-4a93-eeff-258defbe838b"
      },
      "outputs": [
        {
          "name": "stdout",
          "output_type": "stream",
          "text": [
            "<class 'pandas.core.frame.DataFrame'>\n",
            "RangeIndex: 891 entries, 0 to 890\n",
            "Data columns (total 11 columns):\n",
            " #   Column       Non-Null Count  Dtype  \n",
            "---  ------       --------------  -----  \n",
            " 0   PassengerId  891 non-null    int64  \n",
            " 1   Survived     891 non-null    int64  \n",
            " 2   Pclass       891 non-null    int64  \n",
            " 3   Name         891 non-null    object \n",
            " 4   Sex          891 non-null    object \n",
            " 5   Age          891 non-null    float64\n",
            " 6   SibSp        891 non-null    int64  \n",
            " 7   Parch        891 non-null    int64  \n",
            " 8   Ticket       891 non-null    object \n",
            " 9   Fare         891 non-null    float64\n",
            " 10  Embarked     889 non-null    object \n",
            "dtypes: float64(2), int64(5), object(4)\n",
            "memory usage: 76.7+ KB\n"
          ]
        }
      ],
      "source": [
        "df.info()"
      ]
    },
    {
      "cell_type": "markdown",
      "id": "138f9754",
      "metadata": {
        "id": "138f9754"
      },
      "source": [
        "## Column 'Embarked'"
      ]
    },
    {
      "cell_type": "markdown",
      "source": [
        "The total data entry is 891 rows, meanwhile column 'Embarked' only has 889 rows.<br>\n",
        "This means column 'Embarked' has null values, so imputation needs to be done on this column."
      ],
      "metadata": {
        "id": "iZxiF5uyXE7X"
      },
      "id": "iZxiF5uyXE7X"
    },
    {
      "cell_type": "markdown",
      "source": [
        "Check the location or index of the null values"
      ],
      "metadata": {
        "id": "WcaQ4PYFXiAr"
      },
      "id": "WcaQ4PYFXiAr"
    },
    {
      "cell_type": "code",
      "execution_count": null,
      "id": "fbce7186",
      "metadata": {
        "id": "fbce7186",
        "outputId": "ff99dde1-18a4-487e-dd33-0796fccd02ee"
      },
      "outputs": [
        {
          "data": {
            "text/plain": [
              "61     NaN\n",
              "829    NaN\n",
              "Name: Embarked, dtype: object"
            ]
          },
          "execution_count": 14,
          "metadata": {},
          "output_type": "execute_result"
        }
      ],
      "source": [
        "df.Embarked[df.Embarked.isnull()]"
      ]
    },
    {
      "cell_type": "markdown",
      "source": [
        "Show the proportions of the data in column 'Embarked'. As you can see, column 'Embarked' is categorial data."
      ],
      "metadata": {
        "id": "j362ZT4GXeIz"
      },
      "id": "j362ZT4GXeIz"
    },
    {
      "cell_type": "code",
      "execution_count": null,
      "id": "6651bf3f",
      "metadata": {
        "id": "6651bf3f",
        "outputId": "1927a523-10d2-40de-8790-62e7311f9f66"
      },
      "outputs": [
        {
          "data": {
            "text/plain": [
              "S    644\n",
              "C    168\n",
              "Q     77\n",
              "Name: Embarked, dtype: int64"
            ]
          },
          "execution_count": 15,
          "metadata": {},
          "output_type": "execute_result"
        }
      ],
      "source": [
        "df['Embarked'].value_counts()"
      ]
    },
    {
      "cell_type": "markdown",
      "id": "9c30bdf1",
      "metadata": {
        "id": "9c30bdf1"
      },
      "source": [
        "If we want to do imputation on column 'Embarked', we need to check the data type of column 'Embarked' first. <br>\n",
        "Because the data type of column 'Age' is categorial, imputation is done using mode."
      ]
    },
    {
      "cell_type": "markdown",
      "source": [
        "As you can see, 'S' is the data that appears most often, then 'S' is the mode of this coloumn.<br>\n",
        "The code below is used to fill the null-value with the mode."
      ],
      "metadata": {
        "id": "P7yCQKucZpDS"
      },
      "id": "P7yCQKucZpDS"
    },
    {
      "cell_type": "code",
      "execution_count": null,
      "id": "6bcaf148",
      "metadata": {
        "id": "6bcaf148"
      },
      "outputs": [],
      "source": [
        "val = df.Embarked.mode().values[0]\n",
        "df['Embarked'] = df.Embarked.fillna(val)"
      ]
    },
    {
      "cell_type": "markdown",
      "id": "1d9fddf1",
      "metadata": {
        "id": "1d9fddf1"
      },
      "source": [
        "Show the proportions of the data in column 'Embarked' to see whether the imputation has been done or not."
      ]
    },
    {
      "cell_type": "code",
      "execution_count": null,
      "id": "2d1aa54e",
      "metadata": {
        "id": "2d1aa54e",
        "outputId": "aa3a0aa3-ac00-4960-c677-cd0f75d42cd8"
      },
      "outputs": [
        {
          "data": {
            "text/plain": [
              "S    646\n",
              "C    168\n",
              "Q     77\n",
              "Name: Embarked, dtype: int64"
            ]
          },
          "execution_count": 19,
          "metadata": {},
          "output_type": "execute_result"
        }
      ],
      "source": [
        "df.Embarked.value_counts()"
      ]
    },
    {
      "cell_type": "markdown",
      "source": [
        "As we can see, the proportion has changed"
      ],
      "metadata": {
        "id": "rrJghAVKaDf8"
      },
      "id": "rrJghAVKaDf8"
    },
    {
      "cell_type": "markdown",
      "source": [
        "## Column `SibSp` dan Column `Parch`"
      ],
      "metadata": {
        "id": "7hB4GvzSLVrX"
      },
      "id": "7hB4GvzSLVrX"
    },
    {
      "cell_type": "markdown",
      "source": [
        "Here, we will do data manipulation to make the data easier to read by the machine."
      ],
      "metadata": {
        "id": "WYEwRsPLab9n"
      },
      "id": "WYEwRsPLab9n"
    },
    {
      "cell_type": "markdown",
      "source": [
        "Column 'SibSp' (Sibling Spouse), states the number of siblings or spouses brought by passenger.\n",
        "Column 'Parch' (Parent Children), states the number of parents or children brought by passenger.\n"
      ],
      "metadata": {
        "id": "1Hyv2tGtLq81"
      },
      "id": "1Hyv2tGtLq81"
    },
    {
      "cell_type": "markdown",
      "source": [
        "We will create a new column called 'Alone' which states whether the passenger is alone or with family."
      ],
      "metadata": {
        "id": "ZEtkFerXbg1y"
      },
      "id": "ZEtkFerXbg1y"
    },
    {
      "cell_type": "code",
      "source": [
        "df['Alone'] = df['SibSp']+df['Parch']"
      ],
      "metadata": {
        "id": "ugmtwxoUMI0p"
      },
      "execution_count": null,
      "outputs": [],
      "id": "ugmtwxoUMI0p"
    },
    {
      "cell_type": "code",
      "source": [
        "df['Alone'][df['Alone']>0] = 'With Family'\n",
        "df['Alone'][df['Alone']==0] = 'Without Family'"
      ],
      "metadata": {
        "colab": {
          "base_uri": "https://localhost:8080/"
        },
        "id": "gebD28emMWwW",
        "outputId": "4f66a6c0-65b7-41f3-cf10-3cebd7bc628b"
      },
      "execution_count": null,
      "outputs": [
        {
          "output_type": "stream",
          "name": "stderr",
          "text": [
            "/usr/local/lib/python3.7/dist-packages/ipykernel_launcher.py:1: SettingWithCopyWarning: \n",
            "A value is trying to be set on a copy of a slice from a DataFrame\n",
            "\n",
            "See the caveats in the documentation: https://pandas.pydata.org/pandas-docs/stable/user_guide/indexing.html#returning-a-view-versus-a-copy\n",
            "  \"\"\"Entry point for launching an IPython kernel.\n",
            "/usr/local/lib/python3.7/dist-packages/ipykernel_launcher.py:2: SettingWithCopyWarning: \n",
            "A value is trying to be set on a copy of a slice from a DataFrame\n",
            "\n",
            "See the caveats in the documentation: https://pandas.pydata.org/pandas-docs/stable/user_guide/indexing.html#returning-a-view-versus-a-copy\n",
            "  \n"
          ]
        }
      ],
      "id": "gebD28emMWwW"
    },
    {
      "cell_type": "markdown",
      "source": [
        "Show only the top rows of the latest dataset"
      ],
      "metadata": {
        "id": "_1JxquD5b5Tm"
      },
      "id": "_1JxquD5b5Tm"
    },
    {
      "cell_type": "code",
      "source": [
        "df.head()"
      ],
      "metadata": {
        "colab": {
          "base_uri": "https://localhost:8080/",
          "height": 337
        },
        "id": "7L1rq4CdMjrn",
        "outputId": "404c6e6e-4bd7-44f3-96a9-28044576a0a1"
      },
      "execution_count": null,
      "outputs": [
        {
          "output_type": "execute_result",
          "data": {
            "text/plain": [
              "   PassengerId  Survived  Pclass  \\\n",
              "0            1         0       3   \n",
              "1            2         1       1   \n",
              "2            3         1       3   \n",
              "3            4         1       1   \n",
              "4            5         0       3   \n",
              "\n",
              "                                                Name     Sex   Age  SibSp  \\\n",
              "0                            Braund, Mr. Owen Harris    male  22.0      1   \n",
              "1  Cumings, Mrs. John Bradley (Florence Briggs Th...  female  38.0      1   \n",
              "2                             Heikkinen, Miss. Laina  female  26.0      0   \n",
              "3       Futrelle, Mrs. Jacques Heath (Lily May Peel)  female  35.0      1   \n",
              "4                           Allen, Mr. William Henry    male  35.0      0   \n",
              "\n",
              "   Parch            Ticket     Fare Embarked           Alone  \n",
              "0      0         A/5 21171   7.2500        S     With Family  \n",
              "1      0          PC 17599  71.2833        C     With Family  \n",
              "2      0  STON/O2. 3101282   7.9250        S  Without Family  \n",
              "3      0            113803  53.1000        S     With Family  \n",
              "4      0            373450   8.0500        S  Without Family  "
            ],
            "text/html": [
              "\n",
              "  <div id=\"df-da99bfaf-2963-44dd-af21-1513348a484a\">\n",
              "    <div class=\"colab-df-container\">\n",
              "      <div>\n",
              "<style scoped>\n",
              "    .dataframe tbody tr th:only-of-type {\n",
              "        vertical-align: middle;\n",
              "    }\n",
              "\n",
              "    .dataframe tbody tr th {\n",
              "        vertical-align: top;\n",
              "    }\n",
              "\n",
              "    .dataframe thead th {\n",
              "        text-align: right;\n",
              "    }\n",
              "</style>\n",
              "<table border=\"1\" class=\"dataframe\">\n",
              "  <thead>\n",
              "    <tr style=\"text-align: right;\">\n",
              "      <th></th>\n",
              "      <th>PassengerId</th>\n",
              "      <th>Survived</th>\n",
              "      <th>Pclass</th>\n",
              "      <th>Name</th>\n",
              "      <th>Sex</th>\n",
              "      <th>Age</th>\n",
              "      <th>SibSp</th>\n",
              "      <th>Parch</th>\n",
              "      <th>Ticket</th>\n",
              "      <th>Fare</th>\n",
              "      <th>Embarked</th>\n",
              "      <th>Alone</th>\n",
              "    </tr>\n",
              "  </thead>\n",
              "  <tbody>\n",
              "    <tr>\n",
              "      <th>0</th>\n",
              "      <td>1</td>\n",
              "      <td>0</td>\n",
              "      <td>3</td>\n",
              "      <td>Braund, Mr. Owen Harris</td>\n",
              "      <td>male</td>\n",
              "      <td>22.0</td>\n",
              "      <td>1</td>\n",
              "      <td>0</td>\n",
              "      <td>A/5 21171</td>\n",
              "      <td>7.2500</td>\n",
              "      <td>S</td>\n",
              "      <td>With Family</td>\n",
              "    </tr>\n",
              "    <tr>\n",
              "      <th>1</th>\n",
              "      <td>2</td>\n",
              "      <td>1</td>\n",
              "      <td>1</td>\n",
              "      <td>Cumings, Mrs. John Bradley (Florence Briggs Th...</td>\n",
              "      <td>female</td>\n",
              "      <td>38.0</td>\n",
              "      <td>1</td>\n",
              "      <td>0</td>\n",
              "      <td>PC 17599</td>\n",
              "      <td>71.2833</td>\n",
              "      <td>C</td>\n",
              "      <td>With Family</td>\n",
              "    </tr>\n",
              "    <tr>\n",
              "      <th>2</th>\n",
              "      <td>3</td>\n",
              "      <td>1</td>\n",
              "      <td>3</td>\n",
              "      <td>Heikkinen, Miss. Laina</td>\n",
              "      <td>female</td>\n",
              "      <td>26.0</td>\n",
              "      <td>0</td>\n",
              "      <td>0</td>\n",
              "      <td>STON/O2. 3101282</td>\n",
              "      <td>7.9250</td>\n",
              "      <td>S</td>\n",
              "      <td>Without Family</td>\n",
              "    </tr>\n",
              "    <tr>\n",
              "      <th>3</th>\n",
              "      <td>4</td>\n",
              "      <td>1</td>\n",
              "      <td>1</td>\n",
              "      <td>Futrelle, Mrs. Jacques Heath (Lily May Peel)</td>\n",
              "      <td>female</td>\n",
              "      <td>35.0</td>\n",
              "      <td>1</td>\n",
              "      <td>0</td>\n",
              "      <td>113803</td>\n",
              "      <td>53.1000</td>\n",
              "      <td>S</td>\n",
              "      <td>With Family</td>\n",
              "    </tr>\n",
              "    <tr>\n",
              "      <th>4</th>\n",
              "      <td>5</td>\n",
              "      <td>0</td>\n",
              "      <td>3</td>\n",
              "      <td>Allen, Mr. William Henry</td>\n",
              "      <td>male</td>\n",
              "      <td>35.0</td>\n",
              "      <td>0</td>\n",
              "      <td>0</td>\n",
              "      <td>373450</td>\n",
              "      <td>8.0500</td>\n",
              "      <td>S</td>\n",
              "      <td>Without Family</td>\n",
              "    </tr>\n",
              "  </tbody>\n",
              "</table>\n",
              "</div>\n",
              "      <button class=\"colab-df-convert\" onclick=\"convertToInteractive('df-da99bfaf-2963-44dd-af21-1513348a484a')\"\n",
              "              title=\"Convert this dataframe to an interactive table.\"\n",
              "              style=\"display:none;\">\n",
              "        \n",
              "  <svg xmlns=\"http://www.w3.org/2000/svg\" height=\"24px\"viewBox=\"0 0 24 24\"\n",
              "       width=\"24px\">\n",
              "    <path d=\"M0 0h24v24H0V0z\" fill=\"none\"/>\n",
              "    <path d=\"M18.56 5.44l.94 2.06.94-2.06 2.06-.94-2.06-.94-.94-2.06-.94 2.06-2.06.94zm-11 1L8.5 8.5l.94-2.06 2.06-.94-2.06-.94L8.5 2.5l-.94 2.06-2.06.94zm10 10l.94 2.06.94-2.06 2.06-.94-2.06-.94-.94-2.06-.94 2.06-2.06.94z\"/><path d=\"M17.41 7.96l-1.37-1.37c-.4-.4-.92-.59-1.43-.59-.52 0-1.04.2-1.43.59L10.3 9.45l-7.72 7.72c-.78.78-.78 2.05 0 2.83L4 21.41c.39.39.9.59 1.41.59.51 0 1.02-.2 1.41-.59l7.78-7.78 2.81-2.81c.8-.78.8-2.07 0-2.86zM5.41 20L4 18.59l7.72-7.72 1.47 1.35L5.41 20z\"/>\n",
              "  </svg>\n",
              "      </button>\n",
              "      \n",
              "  <style>\n",
              "    .colab-df-container {\n",
              "      display:flex;\n",
              "      flex-wrap:wrap;\n",
              "      gap: 12px;\n",
              "    }\n",
              "\n",
              "    .colab-df-convert {\n",
              "      background-color: #E8F0FE;\n",
              "      border: none;\n",
              "      border-radius: 50%;\n",
              "      cursor: pointer;\n",
              "      display: none;\n",
              "      fill: #1967D2;\n",
              "      height: 32px;\n",
              "      padding: 0 0 0 0;\n",
              "      width: 32px;\n",
              "    }\n",
              "\n",
              "    .colab-df-convert:hover {\n",
              "      background-color: #E2EBFA;\n",
              "      box-shadow: 0px 1px 2px rgba(60, 64, 67, 0.3), 0px 1px 3px 1px rgba(60, 64, 67, 0.15);\n",
              "      fill: #174EA6;\n",
              "    }\n",
              "\n",
              "    [theme=dark] .colab-df-convert {\n",
              "      background-color: #3B4455;\n",
              "      fill: #D2E3FC;\n",
              "    }\n",
              "\n",
              "    [theme=dark] .colab-df-convert:hover {\n",
              "      background-color: #434B5C;\n",
              "      box-shadow: 0px 1px 3px 1px rgba(0, 0, 0, 0.15);\n",
              "      filter: drop-shadow(0px 1px 2px rgba(0, 0, 0, 0.3));\n",
              "      fill: #FFFFFF;\n",
              "    }\n",
              "  </style>\n",
              "\n",
              "      <script>\n",
              "        const buttonEl =\n",
              "          document.querySelector('#df-da99bfaf-2963-44dd-af21-1513348a484a button.colab-df-convert');\n",
              "        buttonEl.style.display =\n",
              "          google.colab.kernel.accessAllowed ? 'block' : 'none';\n",
              "\n",
              "        async function convertToInteractive(key) {\n",
              "          const element = document.querySelector('#df-da99bfaf-2963-44dd-af21-1513348a484a');\n",
              "          const dataTable =\n",
              "            await google.colab.kernel.invokeFunction('convertToInteractive',\n",
              "                                                     [key], {});\n",
              "          if (!dataTable) return;\n",
              "\n",
              "          const docLinkHtml = 'Like what you see? Visit the ' +\n",
              "            '<a target=\"_blank\" href=https://colab.research.google.com/notebooks/data_table.ipynb>data table notebook</a>'\n",
              "            + ' to learn more about interactive tables.';\n",
              "          element.innerHTML = '';\n",
              "          dataTable['output_type'] = 'display_data';\n",
              "          await google.colab.output.renderOutput(dataTable, element);\n",
              "          const docLink = document.createElement('div');\n",
              "          docLink.innerHTML = docLinkHtml;\n",
              "          element.appendChild(docLink);\n",
              "        }\n",
              "      </script>\n",
              "    </div>\n",
              "  </div>\n",
              "  "
            ]
          },
          "metadata": {},
          "execution_count": 20
        }
      ],
      "id": "7L1rq4CdMjrn"
    },
    {
      "cell_type": "markdown",
      "source": [
        "## Relations Between Column `Sex` and Column `Survived`"
      ],
      "metadata": {
        "id": "MJw2JlrZN1QA"
      },
      "id": "MJw2JlrZN1QA"
    },
    {
      "cell_type": "markdown",
      "source": [
        "Check the data proportion of column 'Sex' that survived."
      ],
      "metadata": {
        "id": "Ze59zgFyN8zk"
      },
      "id": "Ze59zgFyN8zk"
    },
    {
      "cell_type": "code",
      "source": [
        "df['Sex'][df['Survived']==1].value_counts()"
      ],
      "metadata": {
        "colab": {
          "base_uri": "https://localhost:8080/"
        },
        "id": "2YOh-I_SOFTY",
        "outputId": "50b004d1-4b2b-47ef-961f-11908cb275e8"
      },
      "execution_count": null,
      "outputs": [
        {
          "output_type": "execute_result",
          "data": {
            "text/plain": [
              "female    233\n",
              "male      109\n",
              "Name: Sex, dtype: int64"
            ]
          },
          "metadata": {},
          "execution_count": 21
        }
      ],
      "id": "2YOh-I_SOFTY"
    },
    {
      "cell_type": "markdown",
      "source": [
        "Display the data visualization of column 'Sex' that survived."
      ],
      "metadata": {
        "id": "JnKlinqSOdEl"
      },
      "id": "JnKlinqSOdEl"
    },
    {
      "cell_type": "code",
      "source": [
        "df['Sex'][df['Survived']==1].value_counts().plot(kind='bar')"
      ],
      "metadata": {
        "colab": {
          "base_uri": "https://localhost:8080/",
          "height": 307
        },
        "id": "iUAlQgVUOizM",
        "outputId": "e21af295-efac-44e8-db0f-0ae58c421d6b"
      },
      "execution_count": null,
      "outputs": [
        {
          "output_type": "execute_result",
          "data": {
            "text/plain": [
              "<matplotlib.axes._subplots.AxesSubplot at 0x7fd80a39edd0>"
            ]
          },
          "metadata": {},
          "execution_count": 22
        },
        {
          "output_type": "display_data",
          "data": {
            "text/plain": [
              "<Figure size 432x288 with 1 Axes>"
            ],
            "image/png": "[encoded data removed]"
          },
          "metadata": {
            "needs_background": "light"
          }
        }
      ],
      "id": "iUAlQgVUOizM"
    },
    {
      "cell_type": "markdown",
      "source": [
        "Check the data proportion of column 'Sex' that is not survived."
      ],
      "metadata": {
        "id": "_HwybmBmPCzw"
      },
      "id": "_HwybmBmPCzw"
    },
    {
      "cell_type": "code",
      "source": [
        "df['Sex'][df['Survived']==0].value_counts()"
      ],
      "metadata": {
        "colab": {
          "base_uri": "https://localhost:8080/"
        },
        "outputId": "134fe914-bebc-4949-db48-714c0be21cff",
        "id": "qMEhGRv6PCz5"
      },
      "execution_count": null,
      "outputs": [
        {
          "output_type": "execute_result",
          "data": {
            "text/plain": [
              "male      468\n",
              "female     81\n",
              "Name: Sex, dtype: int64"
            ]
          },
          "metadata": {},
          "execution_count": 24
        }
      ],
      "id": "qMEhGRv6PCz5"
    },
    {
      "cell_type": "markdown",
      "source": [
        "Display the data visualization of column 'Sex' that is not survived."
      ],
      "metadata": {
        "id": "kgt3HqzePCz6"
      },
      "id": "kgt3HqzePCz6"
    },
    {
      "cell_type": "code",
      "source": [
        "df['Sex'][df['Survived']==0].value_counts().plot(kind='bar')"
      ],
      "metadata": {
        "colab": {
          "base_uri": "https://localhost:8080/",
          "height": 307
        },
        "outputId": "3850dc85-d65f-4c16-ccd2-701555f85e80",
        "id": "f9xwImwUPCz6"
      },
      "execution_count": null,
      "outputs": [
        {
          "output_type": "execute_result",
          "data": {
            "text/plain": [
              "<matplotlib.axes._subplots.AxesSubplot at 0x7fd80a1092d0>"
            ]
          },
          "metadata": {},
          "execution_count": 25
        },
        {
          "output_type": "display_data",
          "data": {
            "text/plain": [
              "<Figure size 432x288 with 1 Axes>"
            ],
            "image/png": "[encoded data removed]"
          },
          "metadata": {
            "needs_background": "light"
          }
        }
      ],
      "id": "f9xwImwUPCz6"
    }
  ],
  "metadata": {
    "kernelspec": {
      "display_name": "Python 3 (ipykernel)",
      "language": "python",
      "name": "python3"
    },
    "language_info": {
      "codemirror_mode": {
        "name": "ipython",
        "version": 3
      },
      "file_extension": ".py",
      "mimetype": "text/x-python",
      "name": "python",
      "nbconvert_exporter": "python",
      "pygments_lexer": "ipython3",
      "version": "3.9.7"
    },
    "colab": {
      "name": "Data Cleansing.ipynb",
      "provenance": [],
      "collapsed_sections": [],
      "toc_visible": true
    }
  },
  "nbformat": 4,
  "nbformat_minor": 5
}